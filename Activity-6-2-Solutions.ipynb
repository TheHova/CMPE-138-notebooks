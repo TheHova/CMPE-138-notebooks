{
 "cells": [
  {
   "cell_type": "code",
   "execution_count": 1,
   "metadata": {
    "collapsed": false
   },
   "outputs": [],
   "source": [
    "%load_ext sql\n",
    "%sql sqlite:///iris.db"
   ]
  },
  {
   "cell_type": "markdown",
   "metadata": {},
   "source": [
    "# Activity 6-2\n",
    "------\n",
    "In this activity, we will practice bulk loading a data file and creating views. The file we will bulk load contains the [`Iris` plant measurements](https://archive.ics.uci.edu/ml/datasets/Iris) data from the UCI Machine Learning repository. The data is already in our repo, in the file `iris.csv`, in comma-separated values format.\n",
    "\n",
    "The data have the following attributes:\n",
    "1. sepal length in cm (real)\n",
    "2. sepal width in cm (real)\n",
    "3. petal length in cm (real)\n",
    "4. petal width in cm (real)\n",
    "5. class (string)\n",
    "\n",
    "## Exercise 1\n",
    "\n",
    "Create the `Iris` table that will contain the attributes above, then use bulk-loading to lead data into the table."
   ]
  },
  {
   "cell_type": "code",
   "execution_count": 2,
   "metadata": {
    "collapsed": false
   },
   "outputs": [
    {
     "name": "stdout",
     "output_type": "stream",
     "text": [
      "Done.\n",
      "Done.\n",
      "(sqlite3.OperationalError) near \".\": syntax error [SQL: u'.separator \",\"\\n.import iris.csv Iris']\n"
     ]
    }
   ],
   "source": [
    "%%sql\n",
    "DROP TABLE IF EXISTS Iris;\n",
    "CREATE TABLE Iris (\n",
    "    sepal_length REAL,\n",
    "    sepal_width REAL,\n",
    "    petal_length REAL,\n",
    "    petal_width REAL,\n",
    "    class VARCHAR,\n",
    "    UNIQUE(sepal_length, sepal_width, petal_length, petal_width, class)\n",
    ");\n",
    "\n",
    ".separator \",\"\n",
    ".import iris.csv Iris"
   ]
  },
  {
   "cell_type": "code",
   "execution_count": 3,
   "metadata": {
    "collapsed": false
   },
   "outputs": [
    {
     "name": "stdout",
     "output_type": "stream",
     "text": [
      "Done.\n"
     ]
    },
    {
     "data": {
      "text/html": [
       "<table>\n",
       "    <tr>\n",
       "        <th>count(*)</th>\n",
       "    </tr>\n",
       "    <tr>\n",
       "        <td>0</td>\n",
       "    </tr>\n",
       "</table>"
      ],
      "text/plain": [
       "[(0,)]"
      ]
     },
     "execution_count": 3,
     "metadata": {},
     "output_type": "execute_result"
    }
   ],
   "source": [
    "%sql select count(*) from Iris"
   ]
  },
  {
   "cell_type": "markdown",
   "metadata": {},
   "source": [
    "As you no doubt had found out, bulk-loading does not work as-is in Jupyter Notebook, as it is not part of the DDL or DQL in SQLite. Instead, they are command-line utilities which can be accessed via the `sqlite3` command line.\n",
    "\n",
    "An alternative to using those commands is to load the data from the file via Python and insert the rows into the table. Here's a shortcut:"
   ]
  },
  {
   "cell_type": "code",
   "execution_count": 4,
   "metadata": {
    "collapsed": false
   },
   "outputs": [],
   "source": [
    "import sqlite3 as lite\n",
    "import csv\n",
    "import os\n",
    "\n",
    "my_file = open('iris.csv', 'r')\n",
    "reader = csv.reader(my_file, delimiter=',')\n",
    "\n",
    "con = lite.connect('iris.db', isolation_level = 'exclusive')\n",
    "cur  = con.cursor()\n",
    "\n",
    "cur.execute(\"DROP TABLE IF EXISTS Iris\")\n",
    "cur.execute(r\"\"\"\n",
    "CREATE TABLE IF NOT EXISTS Iris (\n",
    "    sepal_length REAL,\n",
    "    sepal_width REAL,\n",
    "    petal_length REAL,\n",
    "    petal_width REAL,\n",
    "    class VARCHAR\n",
    ");\n",
    "\"\"\")\n",
    "\n",
    "for row in reader:\n",
    "    cur.execute(\"INSERT INTO Iris VALUES(?, ?, ?, ?, ?)\", row)\n",
    "\n",
    "con.commit()\n"
   ]
  },
  {
   "cell_type": "code",
   "execution_count": 5,
   "metadata": {
    "collapsed": false
   },
   "outputs": [
    {
     "name": "stdout",
     "output_type": "stream",
     "text": [
      "Done.\n"
     ]
    },
    {
     "data": {
      "text/html": [
       "<table>\n",
       "    <tr>\n",
       "        <th>count(*)</th>\n",
       "    </tr>\n",
       "    <tr>\n",
       "        <td>150</td>\n",
       "    </tr>\n",
       "</table>"
      ],
      "text/plain": [
       "[(150,)]"
      ]
     },
     "execution_count": 5,
     "metadata": {},
     "output_type": "execute_result"
    }
   ],
   "source": [
    "%sql select count(*) from Iris"
   ]
  },
  {
   "cell_type": "code",
   "execution_count": 6,
   "metadata": {
    "collapsed": false
   },
   "outputs": [
    {
     "name": "stdout",
     "output_type": "stream",
     "text": [
      "Done.\n"
     ]
    },
    {
     "data": {
      "text/html": [
       "<table>\n",
       "    <tr>\n",
       "        <th>sepal_length</th>\n",
       "        <th>sepal_width</th>\n",
       "        <th>petal_length</th>\n",
       "        <th>petal_width</th>\n",
       "        <th>class</th>\n",
       "    </tr>\n",
       "    <tr>\n",
       "        <td>5.1</td>\n",
       "        <td>3.5</td>\n",
       "        <td>1.4</td>\n",
       "        <td>0.2</td>\n",
       "        <td>Iris-setosa</td>\n",
       "    </tr>\n",
       "    <tr>\n",
       "        <td>4.9</td>\n",
       "        <td>3.0</td>\n",
       "        <td>1.4</td>\n",
       "        <td>0.2</td>\n",
       "        <td>Iris-setosa</td>\n",
       "    </tr>\n",
       "    <tr>\n",
       "        <td>4.7</td>\n",
       "        <td>3.2</td>\n",
       "        <td>1.3</td>\n",
       "        <td>0.2</td>\n",
       "        <td>Iris-setosa</td>\n",
       "    </tr>\n",
       "    <tr>\n",
       "        <td>4.6</td>\n",
       "        <td>3.1</td>\n",
       "        <td>1.5</td>\n",
       "        <td>0.2</td>\n",
       "        <td>Iris-setosa</td>\n",
       "    </tr>\n",
       "    <tr>\n",
       "        <td>5.0</td>\n",
       "        <td>3.6</td>\n",
       "        <td>1.4</td>\n",
       "        <td>0.2</td>\n",
       "        <td>Iris-setosa</td>\n",
       "    </tr>\n",
       "</table>"
      ],
      "text/plain": [
       "[(5.1, 3.5, 1.4, 0.2, u'Iris-setosa'),\n",
       " (4.9, 3.0, 1.4, 0.2, u'Iris-setosa'),\n",
       " (4.7, 3.2, 1.3, 0.2, u'Iris-setosa'),\n",
       " (4.6, 3.1, 1.5, 0.2, u'Iris-setosa'),\n",
       " (5.0, 3.6, 1.4, 0.2, u'Iris-setosa')]"
      ]
     },
     "execution_count": 6,
     "metadata": {},
     "output_type": "execute_result"
    }
   ],
   "source": [
    "%sql SELECT * FROM Iris LIMIT 5;"
   ]
  },
  {
   "cell_type": "markdown",
   "metadata": {},
   "source": [
    "## Exercise 2\n",
    "\n",
    "Create a view of the data where the class does not contain the flower name \"Iris-\", named `IrisView`. You can use the [`SUBSTR`](https://www.sqlite.org/lang_corefunc.html#substr) function to keep only a subset of the `class` attribute values. Can you capitalize the class name?"
   ]
  },
  {
   "cell_type": "code",
   "execution_count": 7,
   "metadata": {
    "collapsed": false
   },
   "outputs": [
    {
     "name": "stdout",
     "output_type": "stream",
     "text": [
      "Done.\n",
      "Done.\n"
     ]
    },
    {
     "data": {
      "text/plain": [
       "[]"
      ]
     },
     "execution_count": 7,
     "metadata": {},
     "output_type": "execute_result"
    }
   ],
   "source": [
    "%%sql\n",
    "DROP VIEW IF EXISTS IrisView;\n",
    "CREATE VIEW IrisView AS\n",
    "SELECT sepal_length, sepal_width, petal_length, petal_width, UPPER(SUBSTR(class, 6, 1)) || SUBSTR(class,7) AS class\n",
    "FROM Iris;"
   ]
  },
  {
   "cell_type": "code",
   "execution_count": 8,
   "metadata": {
    "collapsed": false
   },
   "outputs": [
    {
     "name": "stdout",
     "output_type": "stream",
     "text": [
      "Done.\n"
     ]
    },
    {
     "data": {
      "text/html": [
       "<table>\n",
       "    <tr>\n",
       "        <th>class</th>\n",
       "    </tr>\n",
       "    <tr>\n",
       "        <td>Setosa</td>\n",
       "    </tr>\n",
       "    <tr>\n",
       "        <td>Versicolor</td>\n",
       "    </tr>\n",
       "    <tr>\n",
       "        <td>Virginica</td>\n",
       "    </tr>\n",
       "</table>"
      ],
      "text/plain": [
       "[(u'Setosa',), (u'Versicolor',), (u'Virginica',)]"
      ]
     },
     "execution_count": 8,
     "metadata": {},
     "output_type": "execute_result"
    }
   ],
   "source": [
    "%sql SELECT DISTINCT class from IrisView;"
   ]
  },
  {
   "cell_type": "markdown",
   "metadata": {},
   "source": [
    "## Exercise 3\n",
    "\n",
    "Create a view, named `IrisSetosa`, containing only unique sepal and petal measurements for Iris Setosa flowers. You can either retrieve records from the Iris table or the IrisView view."
   ]
  },
  {
   "cell_type": "code",
   "execution_count": 9,
   "metadata": {
    "collapsed": false
   },
   "outputs": [
    {
     "name": "stdout",
     "output_type": "stream",
     "text": [
      "Done.\n",
      "Done.\n"
     ]
    },
    {
     "data": {
      "text/plain": [
       "[]"
      ]
     },
     "execution_count": 9,
     "metadata": {},
     "output_type": "execute_result"
    }
   ],
   "source": [
    "%%sql \n",
    "DROP VIEW IF EXISTS IrisSetosa;\n",
    "CREATE VIEW IrisSetosa AS\n",
    "SELECT sepal_length, sepal_width, petal_length, petal_width\n",
    "FROM IrisView\n",
    "WHERE class = 'Setosa';"
   ]
  },
  {
   "cell_type": "code",
   "execution_count": 10,
   "metadata": {
    "collapsed": false
   },
   "outputs": [
    {
     "name": "stdout",
     "output_type": "stream",
     "text": [
      "Done.\n"
     ]
    },
    {
     "data": {
      "text/html": [
       "<table>\n",
       "    <tr>\n",
       "        <th>count(*)</th>\n",
       "    </tr>\n",
       "    <tr>\n",
       "        <td>50</td>\n",
       "    </tr>\n",
       "</table>"
      ],
      "text/plain": [
       "[(50,)]"
      ]
     },
     "execution_count": 10,
     "metadata": {},
     "output_type": "execute_result"
    }
   ],
   "source": [
    "%sql SELECT count(*) FROM IrisSetosa;"
   ]
  }
 ],
 "metadata": {
  "kernelspec": {
   "display_name": "Python [default]",
   "language": "python",
   "name": "python2"
  },
  "language_info": {
   "codemirror_mode": {
    "name": "ipython",
    "version": 2
   },
   "file_extension": ".py",
   "mimetype": "text/x-python",
   "name": "python",
   "nbconvert_exporter": "python",
   "pygments_lexer": "ipython2",
   "version": "2.7.12"
  }
 },
 "nbformat": 4,
 "nbformat_minor": 1
}
